{
 "cells": [
  {
   "cell_type": "code",
   "execution_count": null,
   "id": "6e03728d-e5e5-4c99-bb6c-56268654f1a8",
   "metadata": {},
   "outputs": [],
   "source": []
  }
 ],
 "metadata": {
  "kernelspec": {
   "display_name": "",
   "name": ""
  },
  "language_info": {
   "name": ""
  }
 },
 "nbformat": 4,
 "nbformat_minor": 5
}
